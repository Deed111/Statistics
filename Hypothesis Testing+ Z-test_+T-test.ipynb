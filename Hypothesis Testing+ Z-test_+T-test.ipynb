{
 "cells": [
  {
   "cell_type": "code",
   "execution_count": null,
   "id": "a5f59cf8",
   "metadata": {},
   "outputs": [],
   "source": []
  },
  {
   "cell_type": "code",
   "execution_count": null,
   "id": "8fa7bb46",
   "metadata": {},
   "outputs": [],
   "source": []
  },
  {
   "cell_type": "code",
   "execution_count": null,
   "id": "96dc2ee9",
   "metadata": {},
   "outputs": [],
   "source": []
  },
  {
   "cell_type": "code",
   "execution_count": 60,
   "id": "248af8da",
   "metadata": {},
   "outputs": [],
   "source": [
    "def estimates(pop_mean,sample_mean,sigma,sample_size,alpha=0.05):\n",
    "    dof=sample_size-1\n",
    "    \n",
    "    k=int(input(\"\"\"Good Day To You, Sir!\n",
    "    What would you like to calculate: \n",
    "    Press 1 for Point Estimate \n",
    "    Press 2 for Interval estimate \n",
    "    Press 3 for Hypothesis Testing  \n",
    "    Press 4 for all calculations \\n \"\"\")) \n",
    "    \n",
    "    Alpha_dict = {0.025 : 1.96, 0.05 : 1.64}\n",
    "    t_dict={0.05:{20:1.72,25:1.7,30:1.68,40:1.68,50:1.67},0.025:{25:2.0,20:2.08,30:2.04,40:2.02,50:2.00}}\n",
    "    \n",
    "    if k==1 or k==4:\n",
    "        Point_estimate=sample_mean\n",
    "        print(f\"Point_estimate:{Point_estimate}\")\n",
    "        \n",
    "    \n",
    "    if k==2 or k==4:\n",
    "        if sample_size<=30:\n",
    "            print(\"Data follows t-distribution\")\n",
    "            try:\n",
    "                lower_of_Interval_estimate=sample_mean-t_dict[alpha/2][dof]*(sigma/(sample_size)**.5)\n",
    "                Upper_of_Interval_estimate=sample_mean-t_dict[alpha/2][dof]*(sigma/(sample_size)**.5)\n",
    "                print(f\"Interval estimate is from {lower_of_Interval_estimate} to {Upper_of_Interval_estimate}\")\n",
    "                \n",
    "            except KeyError:\n",
    "                print(\"Value for t-stats for given degree of freedom cannot be found\")\n",
    "\n",
    "        \n",
    "        if sample_size>30:\n",
    "            print(\"Data follows Z-distribution\")\n",
    "            lower_of_Interval_estimate=sample_mean-Alpha_dict[alpha/2]*(sigma/(sample_size)**.5)\n",
    "            Upper_of_Interval_estimate=sample_mean+Alpha_dict[alpha/2]*(sigma/(sample_size)**.5)\n",
    "            print(f\"Interval estimate is from {lower_of_Interval_estimate} to {Upper_of_Interval_estimate}\")\n",
    "            \n",
    "    if k==3 or k==4:\n",
    "        if sample_size<=30:\n",
    "            \n",
    "            t_stats=(sample_mean-pop_mean)/(sigma/(sample_mean)**.5)\n",
    "            try:\n",
    "                if t_stats>t_dict[alpha][dof]:\n",
    "                    print(\"NUll Hypothesis is Rejected\")\n",
    "                else:\n",
    "                    print(\"Null Hypothesis is Accepted\")\n",
    "                    \n",
    "            except KeyError:\n",
    "                print(\"Value for t-stats for given degree of freedom cannot be found\")\n",
    "                \n",
    "        if sample_size>30:\n",
    "            \n",
    "            z_stats=(sample_mean-pop_mean)/(sigma/(sample_mean)**.5)\n",
    "            \n",
    "            if z_stats>Alpha_dict[alpha]:\n",
    "                print(\"NUll Hypothesis is Rejected\")\n",
    "            else:\n",
    "                print(\"Null Hypothesis is Accepted\")\n",
    "\n",
    "     "
   ]
  },
  {
   "cell_type": "code",
   "execution_count": null,
   "id": "b0225011",
   "metadata": {},
   "outputs": [],
   "source": []
  },
  {
   "cell_type": "code",
   "execution_count": null,
   "id": "e210ad61",
   "metadata": {},
   "outputs": [],
   "source": []
  },
  {
   "cell_type": "code",
   "execution_count": 45,
   "id": "e45bc909",
   "metadata": {},
   "outputs": [
    {
     "name": "stdout",
     "output_type": "stream",
     "text": [
      "Good Day To You, Sir!\n",
      "    What would you like to calculate: \n",
      "    Press 1 for Point Estimate \n",
      "    Press 2 for Interval estimate \n",
      "    Press 3 for Hypothesis Testing  \n",
      "    Press 4 for all calculations \n",
      " 4\n",
      "Point_estimate:40\n",
      "Data follows t-distribution\n",
      "Interval estimate is from 37.646606378341794 to 37.646606378341794\n",
      "Null Hypothesis is Accepted\n"
     ]
    }
   ],
   "source": [
    "estimates(55,40,6,26)"
   ]
  },
  {
   "cell_type": "code",
   "execution_count": null,
   "id": "29d3a041",
   "metadata": {},
   "outputs": [],
   "source": []
  },
  {
   "cell_type": "code",
   "execution_count": 48,
   "id": "838fa223",
   "metadata": {},
   "outputs": [
    {
     "name": "stdout",
     "output_type": "stream",
     "text": [
      "Good Day To You, Sir!\n",
      "    What would you like to calculate: \n",
      "    Press 1 for Point Estimate \n",
      "    Press 2 for Interval estimate \n",
      "    Press 3 for Hypothesis Testing  \n",
      "    Press 4 for all calculations \n",
      " 4\n",
      "Point_estimate:40\n",
      "Data follows Z-distribution\n",
      "Interval estimate is from 38.35327062118306 to 41.64672937881694\n",
      "Null Hypothesis is Accepted\n"
     ]
    }
   ],
   "source": [
    "estimates(55,40,6,51)"
   ]
  },
  {
   "cell_type": "code",
   "execution_count": 61,
   "id": "a51cf182",
   "metadata": {},
   "outputs": [
    {
     "name": "stdout",
     "output_type": "stream",
     "text": [
      "Good Day To You, Sir!\n",
      "    What would you like to calculate: \n",
      "    Press 1 for Point Estimate \n",
      "    Press 2 for Interval estimate \n",
      "    Press 3 for Hypothesis Testing  \n",
      "    Press 4 for all calculations \n",
      " 4\n",
      "Point_estimate:40\n",
      "Data follows t-distribution\n",
      "Value for t-stats for given degree of freedom cannot be found\n",
      "Value for t-stats for given degree of freedom cannot be found\n"
     ]
    }
   ],
   "source": [
    "estimates(55,40,6,13)"
   ]
  },
  {
   "cell_type": "code",
   "execution_count": 63,
   "id": "6d8dc7c3",
   "metadata": {},
   "outputs": [
    {
     "name": "stdout",
     "output_type": "stream",
     "text": [
      "Good Day To You, Sir!\n",
      "    What would you like to calculate: \n",
      "    Press 1 for Point Estimate \n",
      "    Press 2 for Interval estimate \n",
      "    Press 3 for Hypothesis Testing  \n",
      "    Press 4 for all calculations \n",
      " 4\n",
      "Point_estimate:40\n",
      "Data follows t-distribution\n",
      "Value for t-stats for given degree of freedom cannot be found\n",
      "Value for t-stats for given degree of freedom cannot be found\n"
     ]
    }
   ],
   "source": [
    "estimates(55,40,6,23)"
   ]
  },
  {
   "cell_type": "code",
   "execution_count": null,
   "id": "3abb40a1",
   "metadata": {},
   "outputs": [],
   "source": []
  },
  {
   "cell_type": "code",
   "execution_count": 18,
   "id": "8157ab23",
   "metadata": {},
   "outputs": [],
   "source": []
  },
  {
   "cell_type": "code",
   "execution_count": null,
   "id": "a30a5e30",
   "metadata": {},
   "outputs": [],
   "source": []
  },
  {
   "cell_type": "code",
   "execution_count": 62,
   "id": "fa692455",
   "metadata": {},
   "outputs": [
    {
     "name": "stdout",
     "output_type": "stream",
     "text": [
      "Good Day To You, Sir!\n",
      "    What would you like to calculate: \n",
      "    Press 1 for Point Estimate \n",
      "    Press 2 for Interval estimate \n",
      "    Press 3 for Hypothesis Testing  \n",
      "    Press 4 for all calculations \n",
      " 4\n",
      "Point_estimate:40\n",
      "Data follows Z-distribution\n",
      "Interval estimate is from 38.163396560189994 to 41.836603439810006\n",
      "Null Hypothesis is Accepted\n"
     ]
    }
   ],
   "source": [
    "estimates(55,40,6,41)"
   ]
  },
  {
   "cell_type": "code",
   "execution_count": null,
   "id": "112ed52d",
   "metadata": {},
   "outputs": [],
   "source": []
  }
 ],
 "metadata": {
  "kernelspec": {
   "display_name": "Python 3 (ipykernel)",
   "language": "python",
   "name": "python3"
  },
  "language_info": {
   "codemirror_mode": {
    "name": "ipython",
    "version": 3
   },
   "file_extension": ".py",
   "mimetype": "text/x-python",
   "name": "python",
   "nbconvert_exporter": "python",
   "pygments_lexer": "ipython3",
   "version": "3.10.9"
  }
 },
 "nbformat": 4,
 "nbformat_minor": 5
}
