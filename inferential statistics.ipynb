{
 "cells": [
  {
   "cell_type": "code",
   "execution_count": 3,
   "id": "ab8def08",
   "metadata": {},
   "outputs": [],
   "source": [
    "def estimates(sample_mean,sigma,sample_size,alpha=0.05):\n",
    "    \n",
    "    Alpha_dict = {0.025 : 1.96, 0.05 : 1.64}\n",
    "    Point_estimate=sample_mean\n",
    "    lower_of_Interval_estimate=sample_mean-Alpha_dict[alpha/2]*(sigma/(sample_size)**.5)\n",
    "    Upper_of_Interval_estimate=sample_mean+Alpha_dict[alpha/2]*(sigma/(sample_size)**.5)\n",
    "    if sample_size<=30:\n",
    "        print(\"Data follows t-distribution\")\n",
    "    if sample_size>30:\n",
    "        print(\"Data follows Z-distribution\")\n",
    "    print(f\"Point estimate: {Point_estimate} \\nInterval estimate is from {lower_of_Interval_estimate} to {Upper_of_Interval_estimate}\")\n",
    "    "
   ]
  },
  {
   "cell_type": "code",
   "execution_count": 4,
   "id": "5a7726b0",
   "metadata": {},
   "outputs": [
    {
     "name": "stdout",
     "output_type": "stream",
     "text": [
      "Data follows Z-distribution\n",
      "Point estimate: 40 \n",
      "Interval estimate is from 38.11689291125217 to 41.88310708874783\n"
     ]
    }
   ],
   "source": [
    "estimates(40,6,39)"
   ]
  },
  {
   "cell_type": "code",
   "execution_count": 6,
   "id": "4d9247ad",
   "metadata": {},
   "outputs": [
    {
     "name": "stdout",
     "output_type": "stream",
     "text": [
      "Data follows t-distribution\n",
      "Point estimate: 45 \n",
      "Interval estimate is from 43.17275787233781 to 46.82724212766219\n"
     ]
    }
   ],
   "source": [
    "estimates(45,6,29,0.1)"
   ]
  },
  {
   "cell_type": "code",
   "execution_count": null,
   "id": "a14de6b8",
   "metadata": {},
   "outputs": [],
   "source": []
  }
 ],
 "metadata": {
  "kernelspec": {
   "display_name": "Python 3 (ipykernel)",
   "language": "python",
   "name": "python3"
  },
  "language_info": {
   "codemirror_mode": {
    "name": "ipython",
    "version": 3
   },
   "file_extension": ".py",
   "mimetype": "text/x-python",
   "name": "python",
   "nbconvert_exporter": "python",
   "pygments_lexer": "ipython3",
   "version": "3.10.9"
  }
 },
 "nbformat": 4,
 "nbformat_minor": 5
}
