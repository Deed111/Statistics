{
 "cells": [
  {
   "cell_type": "code",
   "execution_count": 1,
   "id": "986c22b7",
   "metadata": {},
   "outputs": [],
   "source": [
    "import pandas as pd\n",
    "import numpy as np\n",
    "import seaborn as sns"
   ]
  },
  {
   "cell_type": "code",
   "execution_count": null,
   "id": "d9a6186c",
   "metadata": {},
   "outputs": [],
   "source": []
  },
  {
   "cell_type": "code",
   "execution_count": null,
   "id": "e7bf7ebe",
   "metadata": {},
   "outputs": [],
   "source": []
  },
  {
   "cell_type": "code",
   "execution_count": 2,
   "id": "df71aa85",
   "metadata": {},
   "outputs": [],
   "source": [
    "data1= pd.read_csv(r\"C:\\Users\\Dell\\Desktop\\Learnbay\\9 june\\Statistics & ML\\HouseData.csv\")"
   ]
  },
  {
   "cell_type": "code",
   "execution_count": 19,
   "id": "92841e9f",
   "metadata": {},
   "outputs": [
    {
     "name": "stderr",
     "output_type": "stream",
     "text": [
      "C:\\Users\\Dell\\AppData\\Local\\Temp\\ipykernel_2820\\2584681462.py:1: FutureWarning: The default value of numeric_only in DataFrame.corr is deprecated. In a future version, it will default to False. Select only valid columns or specify the value of numeric_only to silence this warning.\n",
      "  corr1=data1.corr()\n"
     ]
    }
   ],
   "source": [
    "corr1=data1.corr()"
   ]
  },
  {
   "cell_type": "code",
   "execution_count": 20,
   "id": "6bff6086",
   "metadata": {},
   "outputs": [],
   "source": [
    "corr2=corr1[corr1!=1.0]"
   ]
  },
  {
   "cell_type": "code",
   "execution_count": 18,
   "id": "a46357df",
   "metadata": {},
   "outputs": [],
   "source": [
    "corr3=corr2[corr2>0.75]"
   ]
  },
  {
   "cell_type": "code",
   "execution_count": 10,
   "id": "728a026c",
   "metadata": {},
   "outputs": [],
   "source": [
    "corr4=corr3.fillna(0)"
   ]
  },
  {
   "cell_type": "code",
   "execution_count": 13,
   "id": "c594d9c8",
   "metadata": {},
   "outputs": [],
   "source": [
    "correlated_columns=corr4[corr4>0.75].stack().index.tolist()"
   ]
  },
  {
   "cell_type": "code",
   "execution_count": 14,
   "id": "4c9943d7",
   "metadata": {},
   "outputs": [
    {
     "data": {
      "text/plain": [
       "[('OverallQual', 'SalePrice'),\n",
       " ('YearBuilt', 'GarageYrBlt'),\n",
       " ('TotalBsmtSF', '1stFlrSF'),\n",
       " ('1stFlrSF', 'TotalBsmtSF'),\n",
       " ('GrLivArea', 'TotRmsAbvGrd'),\n",
       " ('TotRmsAbvGrd', 'GrLivArea'),\n",
       " ('GarageYrBlt', 'YearBuilt'),\n",
       " ('GarageCars', 'GarageArea'),\n",
       " ('GarageArea', 'GarageCars'),\n",
       " ('SalePrice', 'OverallQual')]"
      ]
     },
     "execution_count": 14,
     "metadata": {},
     "output_type": "execute_result"
    }
   ],
   "source": [
    "correlated_columns"
   ]
  },
  {
   "cell_type": "code",
   "execution_count": 25,
   "id": "7fb9b8c5",
   "metadata": {},
   "outputs": [
    {
     "name": "stdout",
     "output_type": "stream",
     "text": [
      "correlated cplumns are:\n",
      "\n",
      "('OverallQual', 'SalePrice')\n",
      "\n",
      "('YearBuilt', 'GarageYrBlt')\n",
      "\n",
      "('TotalBsmtSF', '1stFlrSF')\n",
      "\n",
      "('1stFlrSF', 'TotalBsmtSF')\n",
      "\n",
      "('GrLivArea', 'TotRmsAbvGrd')\n",
      "\n",
      "('TotRmsAbvGrd', 'GrLivArea')\n",
      "\n",
      "('GarageYrBlt', 'YearBuilt')\n",
      "\n",
      "('GarageCars', 'GarageArea')\n",
      "\n",
      "('GarageArea', 'GarageCars')\n",
      "\n",
      "('SalePrice', 'OverallQual')\n",
      "\n",
      "descision to drop one of correlated columns can be taken by the analyst\n"
     ]
    }
   ],
   "source": [
    "print(\"correlated cplumns are:\\n\" )\n",
    "for i in correlated_columns:\n",
    "    print(f\"{i}\\n\")\n",
    "print(\"Descision to drop one of correlated columns can be taken by the analyst\") "
   ]
  },
  {
   "cell_type": "code",
   "execution_count": null,
   "id": "2ede1b74",
   "metadata": {},
   "outputs": [],
   "source": []
  }
 ],
 "metadata": {
  "kernelspec": {
   "display_name": "Python 3 (ipykernel)",
   "language": "python",
   "name": "python3"
  },
  "language_info": {
   "codemirror_mode": {
    "name": "ipython",
    "version": 3
   },
   "file_extension": ".py",
   "mimetype": "text/x-python",
   "name": "python",
   "nbconvert_exporter": "python",
   "pygments_lexer": "ipython3",
   "version": "3.10.9"
  }
 },
 "nbformat": 4,
 "nbformat_minor": 5
}
